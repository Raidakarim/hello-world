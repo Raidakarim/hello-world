{
  "nbformat": 4,
  "nbformat_minor": 0,
  "metadata": {
    "colab": {
      "name": "q4_wide_narrow.ipynb",
      "provenance": [],
      "collapsed_sections": [],
      "authorship_tag": "ABX9TyPXFuRiis35Z+KHIIqB2ql1",
      "include_colab_link": true
    },
    "kernelspec": {
      "name": "python3",
      "display_name": "Python 3"
    },
    "accelerator": "GPU"
  },
  "cells": [
    {
      "cell_type": "markdown",
      "metadata": {
        "id": "view-in-github",
        "colab_type": "text"
      },
      "source": [
        "<a href=\"https://colab.research.google.com/github/Raidakarim/hello-world/blob/master/q4_wide_narrow.ipynb\" target=\"_parent\"><img src=\"https://colab.research.google.com/assets/colab-badge.svg\" alt=\"Open In Colab\"/></a>"
      ]
    },
    {
      "cell_type": "code",
      "metadata": {
        "colab": {
          "base_uri": "https://localhost:8080/",
          "height": 1000
        },
        "id": "Eio4ddUPrg0r",
        "outputId": "a2a3f79b-35df-48e5-a9b1-c4bb38e9803a"
      },
      "source": [
        "'''\n",
        "CSE 446 Winter 2021\n",
        "Homework 3\n",
        "Question 4\n",
        "Neural Networks for MNIST\n",
        "'''\n",
        "import numpy as np\n",
        "import matplotlib.pyplot as plt \n",
        "import torch\n",
        "import torchvision\n",
        "import torchvision.datasets as datasets\n",
        "import torchvision.transforms as transforms\n",
        "from tqdm import tqdm\n",
        "import torch.nn as nn\n",
        "from six.moves import urllib\n",
        "opener = urllib.request.build_opener()\n",
        "opener.addheaders = [('User-agent', 'Mozilla/5.0')]\n",
        "urllib.request.install_opener(opener)\n",
        "\n",
        "# get data from torchvision, transform into tensor, wrap in iterable dataloader\n",
        "to_tensor = transforms.ToTensor()\n",
        "mnist_trainset = datasets.MNIST(root='./data', train=True, download=True, \n",
        "                                transform=to_tensor)\n",
        "mnist_testset = datasets.MNIST(root='./data', train=False, download=True, \n",
        "                               transform=to_tensor)\n",
        "train_loader = torch.utils.data.DataLoader(mnist_trainset,batch_size=128, \n",
        "                                           shuffle=True)\n",
        "test_loader = torch.utils.data.DataLoader(mnist_testset,batch_size=128, \n",
        "                                          shuffle=True)\n",
        "\n",
        "# torch.matmul gives (Matrix product of two tensors)\n",
        "# define networks with given forward pass equations\n",
        "\n",
        "def wide_and_shallow_network(x, W0, W1, b0, b1):\n",
        "  layer1 = torch.matmul(x, W0.T) + b0\n",
        "  return torch.matmul(nn.functional.relu(layer1), W1.T) + b1\n",
        "  \n",
        "\n",
        "def narrow_and_deep_network(x, W0, W1, W2, b0, b1, b2):\n",
        "  layer1 = torch.matmul(x, W0.T) + b0\n",
        "  layer2 = torch.matmul(nn.functional.relu(layer1), W1.T) + b1\n",
        "  return torch.matmul(nn.functional.relu(layer2), W2.T) + b2\n",
        "\n",
        "'''\n",
        "Train neural networks:\n",
        "If U is a random variable uniformly distributed on [0, 1],\n",
        "(r1 - r2) * U + r2 is uniformly distributed on [r1, r2].\n",
        "So, for Unif(- alpha, alpha), we get:\n",
        "(- alpha - alpha) * W or b + alpha = -2 * alpha * W or b + alpha\n",
        "'''\n",
        "def train_wide_and_shallow_network(data_loader, l, num_epochs, h = 64, n = 784, \n",
        "                                   k = 10):\n",
        "  # initialize weights and biases randomly\n",
        "  alpha = 1/np.sqrt(n)\n",
        "  W0 = -2*alpha* torch.rand(h, n) + alpha\n",
        "  W0.requires_grad = True\n",
        "  W1 = -2*alpha* torch.rand(k, h) + alpha\n",
        "  W1.requires_grad = True\n",
        "  b0 = -2*alpha* torch.rand(h) + alpha\n",
        "  b0.requires_grad = True\n",
        "  b1 = -2*alpha* torch.rand(k) + alpha\n",
        "  b1.requires_grad = True\n",
        "\n",
        "  params = [W0, W1, b0, b1]  \n",
        "  # optimization function\n",
        "  optimizer = torch.optim.Adam(params, lr=l) \n",
        "  loss_array = []\n",
        "  for epoch in range(num_epochs):\n",
        "    accuracy = 0\n",
        "    loss_array.append(0)\n",
        "    # iterate through batches\n",
        "    for inputs, labels in tqdm(iter(data_loader)):\n",
        "      # flatten images\n",
        "      inputs = torch.flatten(inputs, start_dim=1, end_dim=3)\n",
        "      # compute predictions to feed as 784 vector elements\n",
        "      forward_pass = wide_and_shallow_network(inputs, W0, W1, b0, b1)\n",
        "      preds = torch.argmax(forward_pass, dim=1)\n",
        "      accuracy += torch.sum(preds == labels)\n",
        "      # compute loss\n",
        "      loss = torch.nn.functional.cross_entropy(forward_pass, labels, \n",
        "                                               size_average = False)\n",
        "      # computes derivatives of the loss with respect to W\n",
        "      optimizer.zero_grad() # set gradients to zero before backpropagation\n",
        "      loss.backward() # backpropagation-- sum of gradients\n",
        "      optimizer.step() # gradient descent- optimizer iterates to update tensors\n",
        "      loss_array[epoch] += loss\n",
        "    loss_array[epoch] = loss_array[epoch]/len(data_loader.dataset)\n",
        "    print(\"For epoch %s training loss is %s\" % (epoch, loss_array[epoch]))\n",
        "    accuracy = accuracy.to(dtype=torch.float)/len(data_loader.dataset)\n",
        "    print(\"For epoch %s training accuracy is %s\" % (epoch, accuracy))\n",
        "    if accuracy > 0.99:\n",
        "      return loss_array, W0, W1, b0, b1\n",
        "  return loss_array, W0, W1, b0, b1\n",
        "\n",
        "\n",
        "def train_narrow_and_deep_network(data_loader, l, num_epochs, h = 32, \n",
        "                                  n = 784, k = 10):\n",
        "  # initialize weights and biases randomly\n",
        "  alpha = 1/np.sqrt(n)\n",
        "  W0 = -2*alpha* torch.rand(h, n) + alpha\n",
        "  W0.requires_grad = True\n",
        "  W1 = -2*alpha* torch.rand(h, h) + alpha\n",
        "  W1.requires_grad = True\n",
        "  W2 = -2*alpha* torch.rand(k, h) + alpha\n",
        "  W2.requires_grad = True\n",
        "  b0 = -2*alpha* torch.rand(h) + alpha\n",
        "  b0.requires_grad = True\n",
        "  b1 = -2*alpha* torch.rand(h) + alpha\n",
        "  b1.requires_grad = True\n",
        "  b2 = -2*alpha* torch.rand(k) + alpha\n",
        "  b2.requires_grad = True\n",
        "  \n",
        "  # optimization function\n",
        "  params = [W0, W1, W2, b0, b1, b2]\n",
        "  optimizer = torch.optim.Adam(params, lr=l)\n",
        "  loss_array = []\n",
        "  for epoch in range(num_epochs):\n",
        "    accuracy = 0\n",
        "    loss_array.append(0)\n",
        "    # iterate through batches\n",
        "    for inputs, labels in tqdm(iter(data_loader)):\n",
        "      # flatten images\n",
        "      inputs = torch.flatten(inputs, start_dim=1, end_dim=3)\n",
        "      # compute predictions\n",
        "      forward_pass = narrow_and_deep_network(inputs, W0, W1, W2, b0, b1, b2)\n",
        "      preds = torch.argmax(forward_pass, dim=1)\n",
        "      accuracy += torch.sum(preds == labels)\n",
        "      # compute loss\n",
        "      loss = torch.nn.functional.cross_entropy(forward_pass, labels, \n",
        "                                               size_average = False)\n",
        "      # computes derivatives of the loss with respect to W\n",
        "      optimizer.zero_grad() # set gradients to zero before backpropagation\n",
        "      loss.backward() # backpropagation-- sum of gradients\n",
        "      optimizer.step() # gradient descent-- optimizer iterates to update tensors\n",
        "      loss_array[epoch] += loss\n",
        "    loss_array[epoch] = loss_array[epoch]/len(data_loader.dataset)\n",
        "    print(\"For epoch %s training loss is %s\" % (epoch, loss_array[epoch]))\n",
        "    accuracy = accuracy.to(dtype=torch.float)/len(data_loader.dataset)\n",
        "    print(\"For epoch %s training accuracy is %s\" % (epoch, accuracy))\n",
        "    if accuracy > 0.99:\n",
        "      return loss_array, W0, W1, W2, b0, b1, b2\n",
        "  return loss_array, W0, W1, W2, b0, b1, b2\n",
        "\n",
        "def test_model(test_loader, network, W0=None, W1=None, W2=None, b0=None, \n",
        "               b1=None, b2=None):\n",
        "  accuracy = 0\n",
        "  loss = 0\n",
        "  for inputs, labels in tqdm(iter(test_loader)):\n",
        "    inputs = torch.flatten(inputs, start_dim=1, end_dim=3)\n",
        "    if network == 'wide':\n",
        "      forward_pass = wide_and_shallow_network(inputs, W0, W1, b0, b1)\n",
        "      preds = torch.argmax(forward_pass, dim=1)\n",
        "    else:\n",
        "      forward_pass = narrow_and_deep_network(inputs, W0, W1, W2, b0, b1, b2)\n",
        "      preds = torch.argmax(forward_pass, dim=1)\n",
        "    accuracy += torch.sum(preds == labels)\n",
        "    loss += torch.nn.functional.cross_entropy(forward_pass, labels, \n",
        "                                              size_average = False)\n",
        "  loss = loss/len(test_loader.dataset)\n",
        "  accuracy = accuracy.to(dtype=torch.float)/len(test_loader.dataset)\n",
        "  return accuracy, loss\n",
        "\n",
        "#Wide and shallow network:\n",
        "loss_array_wide, W0, W1, b0, b1 = train_wide_and_shallow_network(train_loader,\n",
        "                                    0.001, 500, h = 64, n = 784, k = 10)\n",
        "test_acc, test_loss = test_model(test_loader, network ='wide', W0=W0, \n",
        "                                         W1=W1, W2=None, b0=b0, b1=b1, b2=None)\n",
        "print('Test accuracy for wide and shallow network is', test_acc)\n",
        "print('Test loss for wide and shallow network is', test_loss)\n",
        "\n",
        "wide_parameters = np.prod(W0.shape) + np.prod(W1.shape) + np.prod(b0.shape) \n",
        "+ np.prod(b1.shape)\n",
        "print('Number of parameters for wide and shallow network', wide_parameters)\n",
        "\n",
        "#Plot the results\n",
        "plt.plot(range(len(loss_array_wide)), loss_array_wide, '-o')\n",
        "plt.title('Training loss vs. epoch for wide and shallow network')\n",
        "plt.xlabel('Epoch')\n",
        "plt.ylabel('Loss')\n",
        "plt.legend()\n",
        "plt.show()\n",
        "\n",
        "#Deep and narrow network:\n",
        "loss_array_deep, W0, W1, W2, b0, b1, b2 = train_narrow_and_deep_network(\n",
        "                                          train_loader, 0.001, 500, h = 32, \n",
        "                                          n = 784, k = 10)\n",
        "test_acc, test_loss = test_model(test_loader, network ='deep', W0=W0, \n",
        "                                 W1=W1, W2=W2, b0=b0, b1=b1, b2=b2)\n",
        "print('Test accuracy for narrow and deep network is', test_acc)\n",
        "print('Test loss for narrow and deep network is', test_loss)\n",
        "\n",
        "deep_parameters = np.prod(W0.shape) + np.prod(W1.shape) + np.prod(W2.shape) \n",
        "+ np.prod(b0.shape) + np.prod(b1.shape) + np.prod(b2.shape)\n",
        "print('Number of parameters for narrow and deep network', deep_parameters)\n",
        "\n",
        "plt.plot(range(len(loss_array_deep)), loss_array_deep, '-o')\n",
        "plt.title('Training loss vs. epoch for narrow and deep network')\n",
        "plt.xlabel('Epoch')\n",
        "plt.ylabel('Loss')\n",
        "plt.legend()\n",
        "plt.show()"
      ],
      "execution_count": 4,
      "outputs": [
        {
          "output_type": "stream",
          "text": [
            "  0%|          | 0/469 [00:00<?, ?it/s]/usr/local/lib/python3.7/dist-packages/torch/nn/_reduction.py:44: UserWarning: size_average and reduce args will be deprecated, please use reduction='sum' instead.\n",
            "  warnings.warn(warning.format(ret))\n",
            "100%|██████████| 469/469 [00:05<00:00, 93.37it/s]\n",
            "  2%|▏         | 10/469 [00:00<00:04, 93.08it/s]"
          ],
          "name": "stderr"
        },
        {
          "output_type": "stream",
          "text": [
            "For epoch 0 training loss is tensor(0.5356, grad_fn=<DivBackward0>)\n",
            "For epoch 0 training accuracy is tensor(0.8618)\n"
          ],
          "name": "stdout"
        },
        {
          "output_type": "stream",
          "text": [
            "100%|██████████| 469/469 [00:04<00:00, 94.38it/s]\n",
            "  2%|▏         | 10/469 [00:00<00:04, 91.85it/s]"
          ],
          "name": "stderr"
        },
        {
          "output_type": "stream",
          "text": [
            "For epoch 1 training loss is tensor(0.2454, grad_fn=<DivBackward0>)\n",
            "For epoch 1 training accuracy is tensor(0.9294)\n"
          ],
          "name": "stdout"
        },
        {
          "output_type": "stream",
          "text": [
            "100%|██████████| 469/469 [00:05<00:00, 93.77it/s]\n",
            "  2%|▏         | 10/469 [00:00<00:04, 97.08it/s]"
          ],
          "name": "stderr"
        },
        {
          "output_type": "stream",
          "text": [
            "For epoch 2 training loss is tensor(0.1900, grad_fn=<DivBackward0>)\n",
            "For epoch 2 training accuracy is tensor(0.9457)\n"
          ],
          "name": "stdout"
        },
        {
          "output_type": "stream",
          "text": [
            "100%|██████████| 469/469 [00:05<00:00, 93.03it/s]\n",
            "  2%|▏         | 10/469 [00:00<00:04, 94.07it/s]"
          ],
          "name": "stderr"
        },
        {
          "output_type": "stream",
          "text": [
            "For epoch 3 training loss is tensor(0.1530, grad_fn=<DivBackward0>)\n",
            "For epoch 3 training accuracy is tensor(0.9561)\n"
          ],
          "name": "stdout"
        },
        {
          "output_type": "stream",
          "text": [
            "100%|██████████| 469/469 [00:05<00:00, 93.36it/s]\n",
            "  2%|▏         | 10/469 [00:00<00:05, 91.32it/s]"
          ],
          "name": "stderr"
        },
        {
          "output_type": "stream",
          "text": [
            "For epoch 4 training loss is tensor(0.1283, grad_fn=<DivBackward0>)\n",
            "For epoch 4 training accuracy is tensor(0.9625)\n"
          ],
          "name": "stdout"
        },
        {
          "output_type": "stream",
          "text": [
            "100%|██████████| 469/469 [00:05<00:00, 93.23it/s]\n",
            "  2%|▏         | 9/469 [00:00<00:05, 89.93it/s]"
          ],
          "name": "stderr"
        },
        {
          "output_type": "stream",
          "text": [
            "For epoch 5 training loss is tensor(0.1100, grad_fn=<DivBackward0>)\n",
            "For epoch 5 training accuracy is tensor(0.9683)\n"
          ],
          "name": "stdout"
        },
        {
          "output_type": "stream",
          "text": [
            "100%|██████████| 469/469 [00:04<00:00, 94.91it/s]\n",
            "  2%|▏         | 10/469 [00:00<00:05, 91.65it/s]"
          ],
          "name": "stderr"
        },
        {
          "output_type": "stream",
          "text": [
            "For epoch 6 training loss is tensor(0.0959, grad_fn=<DivBackward0>)\n",
            "For epoch 6 training accuracy is tensor(0.9720)\n"
          ],
          "name": "stdout"
        },
        {
          "output_type": "stream",
          "text": [
            "100%|██████████| 469/469 [00:04<00:00, 95.00it/s]\n",
            "  2%|▏         | 10/469 [00:00<00:04, 94.97it/s]"
          ],
          "name": "stderr"
        },
        {
          "output_type": "stream",
          "text": [
            "For epoch 7 training loss is tensor(0.0845, grad_fn=<DivBackward0>)\n",
            "For epoch 7 training accuracy is tensor(0.9753)\n"
          ],
          "name": "stdout"
        },
        {
          "output_type": "stream",
          "text": [
            "100%|██████████| 469/469 [00:04<00:00, 95.75it/s]\n",
            "  2%|▏         | 10/469 [00:00<00:04, 98.55it/s]"
          ],
          "name": "stderr"
        },
        {
          "output_type": "stream",
          "text": [
            "For epoch 8 training loss is tensor(0.0758, grad_fn=<DivBackward0>)\n",
            "For epoch 8 training accuracy is tensor(0.9783)\n"
          ],
          "name": "stdout"
        },
        {
          "output_type": "stream",
          "text": [
            "100%|██████████| 469/469 [00:04<00:00, 96.42it/s]\n",
            "  2%|▏         | 10/469 [00:00<00:04, 91.82it/s]"
          ],
          "name": "stderr"
        },
        {
          "output_type": "stream",
          "text": [
            "For epoch 9 training loss is tensor(0.0678, grad_fn=<DivBackward0>)\n",
            "For epoch 9 training accuracy is tensor(0.9807)\n"
          ],
          "name": "stdout"
        },
        {
          "output_type": "stream",
          "text": [
            "100%|██████████| 469/469 [00:04<00:00, 94.92it/s]\n",
            "  2%|▏         | 10/469 [00:00<00:04, 94.83it/s]"
          ],
          "name": "stderr"
        },
        {
          "output_type": "stream",
          "text": [
            "For epoch 10 training loss is tensor(0.0615, grad_fn=<DivBackward0>)\n",
            "For epoch 10 training accuracy is tensor(0.9823)\n"
          ],
          "name": "stdout"
        },
        {
          "output_type": "stream",
          "text": [
            "100%|██████████| 469/469 [00:04<00:00, 94.99it/s]\n",
            "  2%|▏         | 9/469 [00:00<00:05, 87.69it/s]"
          ],
          "name": "stderr"
        },
        {
          "output_type": "stream",
          "text": [
            "For epoch 11 training loss is tensor(0.0550, grad_fn=<DivBackward0>)\n",
            "For epoch 11 training accuracy is tensor(0.9843)\n"
          ],
          "name": "stdout"
        },
        {
          "output_type": "stream",
          "text": [
            "100%|██████████| 469/469 [00:05<00:00, 93.61it/s]\n",
            "  2%|▏         | 10/469 [00:00<00:04, 97.01it/s]"
          ],
          "name": "stderr"
        },
        {
          "output_type": "stream",
          "text": [
            "For epoch 12 training loss is tensor(0.0500, grad_fn=<DivBackward0>)\n",
            "For epoch 12 training accuracy is tensor(0.9858)\n"
          ],
          "name": "stdout"
        },
        {
          "output_type": "stream",
          "text": [
            "100%|██████████| 469/469 [00:05<00:00, 93.52it/s]\n",
            "  2%|▏         | 10/469 [00:00<00:05, 91.33it/s]"
          ],
          "name": "stderr"
        },
        {
          "output_type": "stream",
          "text": [
            "For epoch 13 training loss is tensor(0.0456, grad_fn=<DivBackward0>)\n",
            "For epoch 13 training accuracy is tensor(0.9867)\n"
          ],
          "name": "stdout"
        },
        {
          "output_type": "stream",
          "text": [
            "100%|██████████| 469/469 [00:05<00:00, 93.25it/s]\n",
            "  2%|▏         | 10/469 [00:00<00:04, 92.71it/s]"
          ],
          "name": "stderr"
        },
        {
          "output_type": "stream",
          "text": [
            "For epoch 14 training loss is tensor(0.0417, grad_fn=<DivBackward0>)\n",
            "For epoch 14 training accuracy is tensor(0.9880)\n"
          ],
          "name": "stdout"
        },
        {
          "output_type": "stream",
          "text": [
            "100%|██████████| 469/469 [00:04<00:00, 94.32it/s]\n",
            "  2%|▏         | 11/469 [00:00<00:04, 101.62it/s]"
          ],
          "name": "stderr"
        },
        {
          "output_type": "stream",
          "text": [
            "For epoch 15 training loss is tensor(0.0379, grad_fn=<DivBackward0>)\n",
            "For epoch 15 training accuracy is tensor(0.9893)\n"
          ],
          "name": "stdout"
        },
        {
          "output_type": "stream",
          "text": [
            "100%|██████████| 469/469 [00:04<00:00, 94.61it/s]\n",
            " 14%|█▍        | 11/79 [00:00<00:00, 103.57it/s]"
          ],
          "name": "stderr"
        },
        {
          "output_type": "stream",
          "text": [
            "For epoch 16 training loss is tensor(0.0343, grad_fn=<DivBackward0>)\n",
            "For epoch 16 training accuracy is tensor(0.9906)\n"
          ],
          "name": "stdout"
        },
        {
          "output_type": "stream",
          "text": [
            "100%|██████████| 79/79 [00:00<00:00, 99.76it/s]\n",
            "No handles with labels found to put in legend.\n"
          ],
          "name": "stderr"
        },
        {
          "output_type": "stream",
          "text": [
            "Test accuracy for wide and shallow network is tensor(0.9747)\n",
            "Test loss for wide and shallow network is tensor(0.0872, grad_fn=<DivBackward0>)\n",
            "Number of parameters for wide and shallow network 50880\n"
          ],
          "name": "stdout"
        },
        {
          "output_type": "display_data",
          "data": {
            "image/png": "[encoded data removed]",
            "text/plain": [
              "<Figure size 432x288 with 1 Axes>"
            ]
          },
          "metadata": {
            "tags": [],
            "needs_background": "light"
          }
        },
        {
          "output_type": "stream",
          "text": [
            "100%|██████████| 469/469 [00:04<00:00, 95.83it/s]\n",
            "  2%|▏         | 10/469 [00:00<00:04, 94.59it/s]"
          ],
          "name": "stderr"
        },
        {
          "output_type": "stream",
          "text": [
            "For epoch 0 training loss is tensor(0.7639, grad_fn=<DivBackward0>)\n",
            "For epoch 0 training accuracy is tensor(0.7599)\n"
          ],
          "name": "stdout"
        },
        {
          "output_type": "stream",
          "text": [
            "100%|██████████| 469/469 [00:04<00:00, 95.50it/s]\n",
            "  2%|▏         | 10/469 [00:00<00:04, 94.87it/s]"
          ],
          "name": "stderr"
        },
        {
          "output_type": "stream",
          "text": [
            "For epoch 1 training loss is tensor(0.3308, grad_fn=<DivBackward0>)\n",
            "For epoch 1 training accuracy is tensor(0.9060)\n"
          ],
          "name": "stdout"
        },
        {
          "output_type": "stream",
          "text": [
            "100%|██████████| 469/469 [00:04<00:00, 95.84it/s]\n",
            "  2%|▏         | 10/469 [00:00<00:04, 92.47it/s]"
          ],
          "name": "stderr"
        },
        {
          "output_type": "stream",
          "text": [
            "For epoch 2 training loss is tensor(0.2681, grad_fn=<DivBackward0>)\n",
            "For epoch 2 training accuracy is tensor(0.9239)\n"
          ],
          "name": "stdout"
        },
        {
          "output_type": "stream",
          "text": [
            "100%|██████████| 469/469 [00:04<00:00, 94.12it/s]\n",
            "  2%|▏         | 9/469 [00:00<00:05, 86.70it/s]"
          ],
          "name": "stderr"
        },
        {
          "output_type": "stream",
          "text": [
            "For epoch 3 training loss is tensor(0.2261, grad_fn=<DivBackward0>)\n",
            "For epoch 3 training accuracy is tensor(0.9358)\n"
          ],
          "name": "stdout"
        },
        {
          "output_type": "stream",
          "text": [
            "100%|██████████| 469/469 [00:04<00:00, 94.82it/s]\n",
            "  2%|▏         | 10/469 [00:00<00:04, 94.28it/s]"
          ],
          "name": "stderr"
        },
        {
          "output_type": "stream",
          "text": [
            "For epoch 4 training loss is tensor(0.1966, grad_fn=<DivBackward0>)\n",
            "For epoch 4 training accuracy is tensor(0.9435)\n"
          ],
          "name": "stdout"
        },
        {
          "output_type": "stream",
          "text": [
            "100%|██████████| 469/469 [00:04<00:00, 94.82it/s]\n",
            "  2%|▏         | 10/469 [00:00<00:04, 95.75it/s]"
          ],
          "name": "stderr"
        },
        {
          "output_type": "stream",
          "text": [
            "For epoch 5 training loss is tensor(0.1736, grad_fn=<DivBackward0>)\n",
            "For epoch 5 training accuracy is tensor(0.9495)\n"
          ],
          "name": "stdout"
        },
        {
          "output_type": "stream",
          "text": [
            "100%|██████████| 469/469 [00:04<00:00, 96.15it/s]\n",
            "  2%|▏         | 11/469 [00:00<00:04, 101.61it/s]"
          ],
          "name": "stderr"
        },
        {
          "output_type": "stream",
          "text": [
            "For epoch 6 training loss is tensor(0.1566, grad_fn=<DivBackward0>)\n",
            "For epoch 6 training accuracy is tensor(0.9536)\n"
          ],
          "name": "stdout"
        },
        {
          "output_type": "stream",
          "text": [
            "100%|██████████| 469/469 [00:04<00:00, 96.92it/s]\n",
            "  2%|▏         | 10/469 [00:00<00:04, 92.78it/s]"
          ],
          "name": "stderr"
        },
        {
          "output_type": "stream",
          "text": [
            "For epoch 7 training loss is tensor(0.1416, grad_fn=<DivBackward0>)\n",
            "For epoch 7 training accuracy is tensor(0.9579)\n"
          ],
          "name": "stdout"
        },
        {
          "output_type": "stream",
          "text": [
            "100%|██████████| 469/469 [00:04<00:00, 95.10it/s]\n",
            "  2%|▏         | 10/469 [00:00<00:04, 94.04it/s]"
          ],
          "name": "stderr"
        },
        {
          "output_type": "stream",
          "text": [
            "For epoch 8 training loss is tensor(0.1305, grad_fn=<DivBackward0>)\n",
            "For epoch 8 training accuracy is tensor(0.9613)\n"
          ],
          "name": "stdout"
        },
        {
          "output_type": "stream",
          "text": [
            "100%|██████████| 469/469 [00:04<00:00, 95.91it/s]\n",
            "  2%|▏         | 10/469 [00:00<00:04, 93.42it/s]"
          ],
          "name": "stderr"
        },
        {
          "output_type": "stream",
          "text": [
            "For epoch 9 training loss is tensor(0.1221, grad_fn=<DivBackward0>)\n",
            "For epoch 9 training accuracy is tensor(0.9633)\n"
          ],
          "name": "stdout"
        },
        {
          "output_type": "stream",
          "text": [
            "100%|██████████| 469/469 [00:04<00:00, 95.26it/s]\n",
            "  2%|▏         | 10/469 [00:00<00:04, 92.96it/s]"
          ],
          "name": "stderr"
        },
        {
          "output_type": "stream",
          "text": [
            "For epoch 10 training loss is tensor(0.1129, grad_fn=<DivBackward0>)\n",
            "For epoch 10 training accuracy is tensor(0.9663)\n"
          ],
          "name": "stdout"
        },
        {
          "output_type": "stream",
          "text": [
            "100%|██████████| 469/469 [00:04<00:00, 96.12it/s]\n",
            "  2%|▏         | 10/469 [00:00<00:04, 95.18it/s]"
          ],
          "name": "stderr"
        },
        {
          "output_type": "stream",
          "text": [
            "For epoch 11 training loss is tensor(0.1064, grad_fn=<DivBackward0>)\n",
            "For epoch 11 training accuracy is tensor(0.9679)\n"
          ],
          "name": "stdout"
        },
        {
          "output_type": "stream",
          "text": [
            "100%|██████████| 469/469 [00:04<00:00, 95.45it/s]\n",
            "  2%|▏         | 10/469 [00:00<00:04, 96.45it/s]"
          ],
          "name": "stderr"
        },
        {
          "output_type": "stream",
          "text": [
            "For epoch 12 training loss is tensor(0.1014, grad_fn=<DivBackward0>)\n",
            "For epoch 12 training accuracy is tensor(0.9692)\n"
          ],
          "name": "stdout"
        },
        {
          "output_type": "stream",
          "text": [
            "100%|██████████| 469/469 [00:04<00:00, 96.95it/s]\n",
            "  2%|▏         | 10/469 [00:00<00:04, 95.55it/s]"
          ],
          "name": "stderr"
        },
        {
          "output_type": "stream",
          "text": [
            "For epoch 13 training loss is tensor(0.0944, grad_fn=<DivBackward0>)\n",
            "For epoch 13 training accuracy is tensor(0.9719)\n"
          ],
          "name": "stdout"
        },
        {
          "output_type": "stream",
          "text": [
            "100%|██████████| 469/469 [00:04<00:00, 97.24it/s]\n",
            "  2%|▏         | 10/469 [00:00<00:04, 96.98it/s]"
          ],
          "name": "stderr"
        },
        {
          "output_type": "stream",
          "text": [
            "For epoch 14 training loss is tensor(0.0891, grad_fn=<DivBackward0>)\n",
            "For epoch 14 training accuracy is tensor(0.9728)\n"
          ],
          "name": "stdout"
        },
        {
          "output_type": "stream",
          "text": [
            "100%|██████████| 469/469 [00:04<00:00, 95.25it/s]\n",
            "  2%|▏         | 10/469 [00:00<00:04, 92.70it/s]"
          ],
          "name": "stderr"
        },
        {
          "output_type": "stream",
          "text": [
            "For epoch 15 training loss is tensor(0.0851, grad_fn=<DivBackward0>)\n",
            "For epoch 15 training accuracy is tensor(0.9742)\n"
          ],
          "name": "stdout"
        },
        {
          "output_type": "stream",
          "text": [
            "100%|██████████| 469/469 [00:04<00:00, 95.96it/s]\n",
            "  2%|▏         | 10/469 [00:00<00:04, 96.99it/s]"
          ],
          "name": "stderr"
        },
        {
          "output_type": "stream",
          "text": [
            "For epoch 16 training loss is tensor(0.0818, grad_fn=<DivBackward0>)\n",
            "For epoch 16 training accuracy is tensor(0.9749)\n"
          ],
          "name": "stdout"
        },
        {
          "output_type": "stream",
          "text": [
            "100%|██████████| 469/469 [00:04<00:00, 97.12it/s]\n",
            "  2%|▏         | 10/469 [00:00<00:04, 98.50it/s]"
          ],
          "name": "stderr"
        },
        {
          "output_type": "stream",
          "text": [
            "For epoch 17 training loss is tensor(0.0778, grad_fn=<DivBackward0>)\n",
            "For epoch 17 training accuracy is tensor(0.9763)\n"
          ],
          "name": "stdout"
        },
        {
          "output_type": "stream",
          "text": [
            "100%|██████████| 469/469 [00:04<00:00, 96.90it/s]\n",
            "  2%|▏         | 10/469 [00:00<00:04, 97.16it/s]"
          ],
          "name": "stderr"
        },
        {
          "output_type": "stream",
          "text": [
            "For epoch 18 training loss is tensor(0.0744, grad_fn=<DivBackward0>)\n",
            "For epoch 18 training accuracy is tensor(0.9775)\n"
          ],
          "name": "stdout"
        },
        {
          "output_type": "stream",
          "text": [
            "100%|██████████| 469/469 [00:04<00:00, 96.68it/s]\n",
            "  2%|▏         | 10/469 [00:00<00:05, 91.64it/s]"
          ],
          "name": "stderr"
        },
        {
          "output_type": "stream",
          "text": [
            "For epoch 19 training loss is tensor(0.0716, grad_fn=<DivBackward0>)\n",
            "For epoch 19 training accuracy is tensor(0.9781)\n"
          ],
          "name": "stdout"
        },
        {
          "output_type": "stream",
          "text": [
            "100%|██████████| 469/469 [00:04<00:00, 96.05it/s]\n",
            "  2%|▏         | 9/469 [00:00<00:05, 89.75it/s]"
          ],
          "name": "stderr"
        },
        {
          "output_type": "stream",
          "text": [
            "For epoch 20 training loss is tensor(0.0686, grad_fn=<DivBackward0>)\n",
            "For epoch 20 training accuracy is tensor(0.9788)\n"
          ],
          "name": "stdout"
        },
        {
          "output_type": "stream",
          "text": [
            "100%|██████████| 469/469 [00:04<00:00, 95.01it/s]\n",
            "  2%|▏         | 10/469 [00:00<00:04, 97.48it/s]"
          ],
          "name": "stderr"
        },
        {
          "output_type": "stream",
          "text": [
            "For epoch 21 training loss is tensor(0.0668, grad_fn=<DivBackward0>)\n",
            "For epoch 21 training accuracy is tensor(0.9793)\n"
          ],
          "name": "stdout"
        },
        {
          "output_type": "stream",
          "text": [
            "100%|██████████| 469/469 [00:04<00:00, 94.25it/s]\n",
            "  2%|▏         | 11/469 [00:00<00:04, 101.61it/s]"
          ],
          "name": "stderr"
        },
        {
          "output_type": "stream",
          "text": [
            "For epoch 22 training loss is tensor(0.0628, grad_fn=<DivBackward0>)\n",
            "For epoch 22 training accuracy is tensor(0.9804)\n"
          ],
          "name": "stdout"
        },
        {
          "output_type": "stream",
          "text": [
            "100%|██████████| 469/469 [00:04<00:00, 95.67it/s]\n",
            "  2%|▏         | 10/469 [00:00<00:04, 97.52it/s]"
          ],
          "name": "stderr"
        },
        {
          "output_type": "stream",
          "text": [
            "For epoch 23 training loss is tensor(0.0605, grad_fn=<DivBackward0>)\n",
            "For epoch 23 training accuracy is tensor(0.9811)\n"
          ],
          "name": "stdout"
        },
        {
          "output_type": "stream",
          "text": [
            "100%|██████████| 469/469 [00:04<00:00, 95.29it/s]\n",
            "  2%|▏         | 10/469 [00:00<00:04, 94.55it/s]"
          ],
          "name": "stderr"
        },
        {
          "output_type": "stream",
          "text": [
            "For epoch 24 training loss is tensor(0.0583, grad_fn=<DivBackward0>)\n",
            "For epoch 24 training accuracy is tensor(0.9819)\n"
          ],
          "name": "stdout"
        },
        {
          "output_type": "stream",
          "text": [
            "100%|██████████| 469/469 [00:04<00:00, 95.26it/s]\n",
            "  2%|▏         | 10/469 [00:00<00:04, 96.04it/s]"
          ],
          "name": "stderr"
        },
        {
          "output_type": "stream",
          "text": [
            "For epoch 25 training loss is tensor(0.0563, grad_fn=<DivBackward0>)\n",
            "For epoch 25 training accuracy is tensor(0.9826)\n"
          ],
          "name": "stdout"
        },
        {
          "output_type": "stream",
          "text": [
            "100%|██████████| 469/469 [00:04<00:00, 95.47it/s]\n",
            "  2%|▏         | 10/469 [00:00<00:04, 97.16it/s]"
          ],
          "name": "stderr"
        },
        {
          "output_type": "stream",
          "text": [
            "For epoch 26 training loss is tensor(0.0528, grad_fn=<DivBackward0>)\n",
            "For epoch 26 training accuracy is tensor(0.9839)\n"
          ],
          "name": "stdout"
        },
        {
          "output_type": "stream",
          "text": [
            "100%|██████████| 469/469 [00:04<00:00, 94.59it/s]\n",
            "  2%|▏         | 10/469 [00:00<00:04, 97.00it/s]"
          ],
          "name": "stderr"
        },
        {
          "output_type": "stream",
          "text": [
            "For epoch 27 training loss is tensor(0.0511, grad_fn=<DivBackward0>)\n",
            "For epoch 27 training accuracy is tensor(0.9843)\n"
          ],
          "name": "stdout"
        },
        {
          "output_type": "stream",
          "text": [
            "100%|██████████| 469/469 [00:05<00:00, 93.52it/s]\n",
            "  2%|▏         | 10/469 [00:00<00:04, 94.90it/s]"
          ],
          "name": "stderr"
        },
        {
          "output_type": "stream",
          "text": [
            "For epoch 28 training loss is tensor(0.0493, grad_fn=<DivBackward0>)\n",
            "For epoch 28 training accuracy is tensor(0.9845)\n"
          ],
          "name": "stdout"
        },
        {
          "output_type": "stream",
          "text": [
            "100%|██████████| 469/469 [00:04<00:00, 94.91it/s]\n",
            "  2%|▏         | 9/469 [00:00<00:05, 89.35it/s]"
          ],
          "name": "stderr"
        },
        {
          "output_type": "stream",
          "text": [
            "For epoch 29 training loss is tensor(0.0478, grad_fn=<DivBackward0>)\n",
            "For epoch 29 training accuracy is tensor(0.9850)\n"
          ],
          "name": "stdout"
        },
        {
          "output_type": "stream",
          "text": [
            "100%|██████████| 469/469 [00:04<00:00, 95.74it/s]\n",
            "  2%|▏         | 10/469 [00:00<00:05, 90.99it/s]"
          ],
          "name": "stderr"
        },
        {
          "output_type": "stream",
          "text": [
            "For epoch 30 training loss is tensor(0.0461, grad_fn=<DivBackward0>)\n",
            "For epoch 30 training accuracy is tensor(0.9852)\n"
          ],
          "name": "stdout"
        },
        {
          "output_type": "stream",
          "text": [
            "100%|██████████| 469/469 [00:04<00:00, 97.03it/s]\n",
            "  2%|▏         | 10/469 [00:00<00:04, 93.62it/s]"
          ],
          "name": "stderr"
        },
        {
          "output_type": "stream",
          "text": [
            "For epoch 31 training loss is tensor(0.0442, grad_fn=<DivBackward0>)\n",
            "For epoch 31 training accuracy is tensor(0.9864)\n"
          ],
          "name": "stdout"
        },
        {
          "output_type": "stream",
          "text": [
            "100%|██████████| 469/469 [00:04<00:00, 96.74it/s]\n",
            "  2%|▏         | 10/469 [00:00<00:04, 98.46it/s]"
          ],
          "name": "stderr"
        },
        {
          "output_type": "stream",
          "text": [
            "For epoch 32 training loss is tensor(0.0426, grad_fn=<DivBackward0>)\n",
            "For epoch 32 training accuracy is tensor(0.9867)\n"
          ],
          "name": "stdout"
        },
        {
          "output_type": "stream",
          "text": [
            "100%|██████████| 469/469 [00:04<00:00, 96.46it/s]\n",
            "  2%|▏         | 10/469 [00:00<00:04, 97.40it/s]"
          ],
          "name": "stderr"
        },
        {
          "output_type": "stream",
          "text": [
            "For epoch 33 training loss is tensor(0.0410, grad_fn=<DivBackward0>)\n",
            "For epoch 33 training accuracy is tensor(0.9871)\n"
          ],
          "name": "stdout"
        },
        {
          "output_type": "stream",
          "text": [
            "100%|██████████| 469/469 [00:04<00:00, 96.86it/s]\n",
            "  2%|▏         | 10/469 [00:00<00:04, 92.32it/s]"
          ],
          "name": "stderr"
        },
        {
          "output_type": "stream",
          "text": [
            "For epoch 34 training loss is tensor(0.0391, grad_fn=<DivBackward0>)\n",
            "For epoch 34 training accuracy is tensor(0.9877)\n"
          ],
          "name": "stdout"
        },
        {
          "output_type": "stream",
          "text": [
            "100%|██████████| 469/469 [00:04<00:00, 95.62it/s]\n",
            "  2%|▏         | 10/469 [00:00<00:04, 96.79it/s]"
          ],
          "name": "stderr"
        },
        {
          "output_type": "stream",
          "text": [
            "For epoch 35 training loss is tensor(0.0378, grad_fn=<DivBackward0>)\n",
            "For epoch 35 training accuracy is tensor(0.9877)\n"
          ],
          "name": "stdout"
        },
        {
          "output_type": "stream",
          "text": [
            "100%|██████████| 469/469 [00:04<00:00, 95.23it/s]\n",
            "  2%|▏         | 9/469 [00:00<00:05, 85.70it/s]"
          ],
          "name": "stderr"
        },
        {
          "output_type": "stream",
          "text": [
            "For epoch 36 training loss is tensor(0.0359, grad_fn=<DivBackward0>)\n",
            "For epoch 36 training accuracy is tensor(0.9886)\n"
          ],
          "name": "stdout"
        },
        {
          "output_type": "stream",
          "text": [
            "100%|██████████| 469/469 [00:04<00:00, 96.21it/s]\n",
            "  2%|▏         | 10/469 [00:00<00:04, 96.64it/s]"
          ],
          "name": "stderr"
        },
        {
          "output_type": "stream",
          "text": [
            "For epoch 37 training loss is tensor(0.0347, grad_fn=<DivBackward0>)\n",
            "For epoch 37 training accuracy is tensor(0.9890)\n"
          ],
          "name": "stdout"
        },
        {
          "output_type": "stream",
          "text": [
            "100%|██████████| 469/469 [00:04<00:00, 96.24it/s]\n",
            "  2%|▏         | 11/469 [00:00<00:04, 101.56it/s]"
          ],
          "name": "stderr"
        },
        {
          "output_type": "stream",
          "text": [
            "For epoch 38 training loss is tensor(0.0332, grad_fn=<DivBackward0>)\n",
            "For epoch 38 training accuracy is tensor(0.9897)\n"
          ],
          "name": "stdout"
        },
        {
          "output_type": "stream",
          "text": [
            "100%|██████████| 469/469 [00:04<00:00, 97.30it/s]\n",
            " 14%|█▍        | 11/79 [00:00<00:00, 102.19it/s]"
          ],
          "name": "stderr"
        },
        {
          "output_type": "stream",
          "text": [
            "For epoch 39 training loss is tensor(0.0318, grad_fn=<DivBackward0>)\n",
            "For epoch 39 training accuracy is tensor(0.9904)\n"
          ],
          "name": "stdout"
        },
        {
          "output_type": "stream",
          "text": [
            "100%|██████████| 79/79 [00:00<00:00, 104.66it/s]\n",
            "No handles with labels found to put in legend.\n"
          ],
          "name": "stderr"
        },
        {
          "output_type": "stream",
          "text": [
            "Test accuracy for narrow and deep network is tensor(0.9635)\n",
            "Test loss for narrow and deep network is tensor(0.1399, grad_fn=<DivBackward0>)\n",
            "Number of parameters for narrow and deep network 26432\n"
          ],
          "name": "stdout"
        },
        {
          "output_type": "display_data",
          "data": {
            "image/png": "[encoded data removed]",
            "text/plain": [
              "<Figure size 432x288 with 1 Axes>"
            ]
          },
          "metadata": {
            "tags": [],
            "needs_background": "light"
          }
        }
      ]
    }
  ]
}